{
 "cells": [
  {
   "cell_type": "markdown",
   "id": "1685e759",
   "metadata": {},
   "source": [
    "# Lab 4-2: Load Data"
   ]
  },
  {
   "cell_type": "code",
   "execution_count": 1,
   "id": "fee8216a",
   "metadata": {},
   "outputs": [],
   "source": [
    "import torch\n",
    "import torch.nn as nn\n",
    "import torch.nn.functional as F\n",
    "import torch.optim as optim"
   ]
  },
  {
   "cell_type": "code",
   "execution_count": 2,
   "id": "0ae04713",
   "metadata": {},
   "outputs": [
    {
     "data": {
      "text/plain": [
       "<torch._C.Generator at 0x15affaee690>"
      ]
     },
     "execution_count": 2,
     "metadata": {},
     "output_type": "execute_result"
    }
   ],
   "source": [
    "# For reproducibility\n",
    "torch.manual_seed(1)"
   ]
  },
  {
   "cell_type": "markdown",
   "id": "53746a79",
   "metadata": {},
   "source": [
    "# PyTorch Dataset"
   ]
  },
  {
   "cell_type": "code",
   "execution_count": 9,
   "id": "eaf03528",
   "metadata": {},
   "outputs": [],
   "source": [
    "from torch.utils.data import Dataset\n",
    "\n",
    "class CustomDataset(Dataset):\n",
    "    def __init__(self):\n",
    "        self.x_data = [[73, 80, 75],\n",
    "                       [93, 88, 93],\n",
    "                       [89, 91, 90],\n",
    "                       [96, 98, 100],\n",
    "                       [73, 66, 70]]\n",
    "        self.y_data = [[152], [185], [180], [196], [142]]\n",
    "        \n",
    "    def __len__(self): # 데이터셋의 총 데이타 수\n",
    "        return len(self.x_data)\n",
    "    \n",
    "    def __getitem__(self, idx): # idx에 상응하는 입출력 데이터 반환\n",
    "        x = torch.FloatTensor(self.x_data[idx])\n",
    "        y = torch.FloatTensor(self.y_data[idx])\n",
    "        \n",
    "        return x, y"
   ]
  },
  {
   "cell_type": "markdown",
   "id": "ea344c2a",
   "metadata": {},
   "source": [
    "# PyTorch DataLoader"
   ]
  },
  {
   "cell_type": "code",
   "execution_count": 5,
   "id": "f509810c",
   "metadata": {},
   "outputs": [],
   "source": [
    "from torch.utils.data import DataLoader\n",
    "\n",
    "dataloader = DataLoader(\n",
    "    dataset,\n",
    "    batch_size=2, # 각 minibatch의 크기. 통상적으로 2의 제곱수로 설정한다.\n",
    "    shuffle=True, # Epoch 마다 데이터셋을 섞어서, 데이터가 학습되는 순서를 바꾼다.\n",
    ")"
   ]
  },
  {
   "cell_type": "markdown",
   "id": "584b5e98",
   "metadata": {},
   "source": [
    "# High-level Implementation with `nn.Module`"
   ]
  },
  {
   "cell_type": "code",
   "execution_count": 14,
   "id": "6a0bb874",
   "metadata": {},
   "outputs": [],
   "source": [
    "class MultivariateLinearRegressionModel(nn.Module):\n",
    "    def __init__(self):\n",
    "        super().__init__()\n",
    "        self.linear = nn.Linear(3, 1)\n",
    "\n",
    "    def forward(self, x):\n",
    "        return self.linear(x)"
   ]
  },
  {
   "cell_type": "markdown",
   "id": "eb7a5d68",
   "metadata": {},
   "source": [
    "# Full Code with Dataset and DataLoader"
   ]
  },
  {
   "cell_type": "code",
   "execution_count": 12,
   "id": "28e145cf",
   "metadata": {},
   "outputs": [
    {
     "name": "stdout",
     "output_type": "stream",
     "text": [
      "Epoch    0/20 Batch 1/3 Cost: 40548.742188\n",
      "Epoch    0/20 Batch 2/3 Cost: 7291.496094\n",
      "Epoch    0/20 Batch 3/3 Cost: 1811.472900\n",
      "Epoch    1/20 Batch 1/3 Cost: 1189.893066\n",
      "Epoch    1/20 Batch 2/3 Cost: 401.466431\n",
      "Epoch    1/20 Batch 3/3 Cost: 98.862206\n",
      "Epoch    2/20 Batch 1/3 Cost: 59.924492\n",
      "Epoch    2/20 Batch 2/3 Cost: 5.558980\n",
      "Epoch    2/20 Batch 3/3 Cost: 0.005015\n",
      "Epoch    3/20 Batch 1/3 Cost: 7.238761\n",
      "Epoch    3/20 Batch 2/3 Cost: 0.579780\n",
      "Epoch    3/20 Batch 3/3 Cost: 9.432348\n",
      "Epoch    4/20 Batch 1/3 Cost: 2.596262\n",
      "Epoch    4/20 Batch 2/3 Cost: 6.112612\n",
      "Epoch    4/20 Batch 3/3 Cost: 0.173577\n",
      "Epoch    5/20 Batch 1/3 Cost: 0.585829\n",
      "Epoch    5/20 Batch 2/3 Cost: 3.764513\n",
      "Epoch    5/20 Batch 3/3 Cost: 4.496191\n",
      "Epoch    6/20 Batch 1/3 Cost: 1.750849\n",
      "Epoch    6/20 Batch 2/3 Cost: 2.692057\n",
      "Epoch    6/20 Batch 3/3 Cost: 4.092385\n",
      "Epoch    7/20 Batch 1/3 Cost: 0.873102\n",
      "Epoch    7/20 Batch 2/3 Cost: 3.545603\n",
      "Epoch    7/20 Batch 3/3 Cost: 4.466603\n",
      "Epoch    8/20 Batch 1/3 Cost: 2.943422\n",
      "Epoch    8/20 Batch 2/3 Cost: 2.787016\n",
      "Epoch    8/20 Batch 3/3 Cost: 3.619492\n",
      "Epoch    9/20 Batch 1/3 Cost: 3.126629\n",
      "Epoch    9/20 Batch 2/3 Cost: 3.285140\n",
      "Epoch    9/20 Batch 3/3 Cost: 3.671584\n",
      "Epoch   10/20 Batch 1/3 Cost: 4.018391\n",
      "Epoch   10/20 Batch 2/3 Cost: 3.578519\n",
      "Epoch   10/20 Batch 3/3 Cost: 4.788294\n",
      "Epoch   11/20 Batch 1/3 Cost: 2.840858\n",
      "Epoch   11/20 Batch 2/3 Cost: 1.529948\n",
      "Epoch   11/20 Batch 3/3 Cost: 5.260645\n",
      "Epoch   12/20 Batch 1/3 Cost: 2.605290\n",
      "Epoch   12/20 Batch 2/3 Cost: 2.249615\n",
      "Epoch   12/20 Batch 3/3 Cost: 4.657380\n",
      "Epoch   13/20 Batch 1/3 Cost: 2.926507\n",
      "Epoch   13/20 Batch 2/3 Cost: 1.515777\n",
      "Epoch   13/20 Batch 3/3 Cost: 4.302320\n",
      "Epoch   14/20 Batch 1/3 Cost: 0.500335\n",
      "Epoch   14/20 Batch 2/3 Cost: 6.037371\n",
      "Epoch   14/20 Batch 3/3 Cost: 4.123126\n",
      "Epoch   15/20 Batch 1/3 Cost: 1.343143\n",
      "Epoch   15/20 Batch 2/3 Cost: 3.552392\n",
      "Epoch   15/20 Batch 3/3 Cost: 4.573134\n",
      "Epoch   16/20 Batch 1/3 Cost: 3.172205\n",
      "Epoch   16/20 Batch 2/3 Cost: 3.901104\n",
      "Epoch   16/20 Batch 3/3 Cost: 5.279982\n",
      "Epoch   17/20 Batch 1/3 Cost: 2.121088\n",
      "Epoch   17/20 Batch 2/3 Cost: 3.004843\n",
      "Epoch   17/20 Batch 3/3 Cost: 5.418248\n",
      "Epoch   18/20 Batch 1/3 Cost: 2.273925\n",
      "Epoch   18/20 Batch 2/3 Cost: 2.860945\n",
      "Epoch   18/20 Batch 3/3 Cost: 3.722516\n",
      "Epoch   19/20 Batch 1/3 Cost: 3.066788\n",
      "Epoch   19/20 Batch 2/3 Cost: 3.034842\n",
      "Epoch   19/20 Batch 3/3 Cost: 0.832807\n",
      "Epoch   20/20 Batch 1/3 Cost: 2.018387\n",
      "Epoch   20/20 Batch 2/3 Cost: 6.400998\n",
      "Epoch   20/20 Batch 3/3 Cost: 0.817560\n"
     ]
    }
   ],
   "source": [
    "# 데이터\n",
    "dataset = CustomDataset()\n",
    "# 모델 초기화\n",
    "model = MultivariateLinearRegressionModel()\n",
    "# optimizer 설정\n",
    "optimizer = optim.SGD(model.parameters(), lr=1e-5)\n",
    "\n",
    "nb_epochs = 20\n",
    "for epoch in range(nb_epochs+1):\n",
    "    for batch_idx, samples in enumerate(dataloader):\n",
    "        x_train, y_train = samples\n",
    "        # H(x) 계산\n",
    "        prediction = model(x_train)\n",
    "\n",
    "        # cost 계산\n",
    "        cost = F.mse_loss(prediction, y_train)\n",
    "\n",
    "        # cost로 H(x) 개선\n",
    "        optimizer.zero_grad()\n",
    "        cost.backward()\n",
    "        optimizer.step()\n",
    "\n",
    "        # 20번마다 로그 출력\n",
    "        print('Epoch {:4d}/{} Batch {}/{} Cost: {:.6f}'.format(\n",
    "            epoch, nb_epochs, batch_idx+1, len(dataloader), cost.item()\n",
    "        ))"
   ]
  },
  {
   "cell_type": "code",
   "execution_count": null,
   "id": "993c51db",
   "metadata": {},
   "outputs": [],
   "source": []
  }
 ],
 "metadata": {
  "kernelspec": {
   "display_name": "Python 3",
   "language": "python",
   "name": "python3"
  },
  "language_info": {
   "codemirror_mode": {
    "name": "ipython",
    "version": 3
   },
   "file_extension": ".py",
   "mimetype": "text/x-python",
   "name": "python",
   "nbconvert_exporter": "python",
   "pygments_lexer": "ipython3",
   "version": "3.8.8"
  }
 },
 "nbformat": 4,
 "nbformat_minor": 5
}
